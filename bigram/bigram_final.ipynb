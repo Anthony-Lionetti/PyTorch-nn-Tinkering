{
 "cells": [
  {
   "cell_type": "markdown",
   "metadata": {},
   "source": [
    "### Lesson 1"
   ]
  },
  {
   "cell_type": "code",
   "execution_count": 1,
   "metadata": {},
   "outputs": [],
   "source": [
    "import torch\n",
    "import torch.nn.functional as F\n",
    "words = open('names.txt').read().splitlines()"
   ]
  },
  {
   "cell_type": "code",
   "execution_count": 2,
   "metadata": {},
   "outputs": [],
   "source": [
    "# construct lookup table\n",
    "chars = sorted(list(set(''.join(words))))\n",
    "stoi = {s:i+1 for i,s in enumerate(chars)}\n",
    "stoi['.'] = 0\n",
    "itos = {i:s for s,i in stoi.items()}"
   ]
  },
  {
   "cell_type": "code",
   "execution_count": 5,
   "metadata": {},
   "outputs": [
    {
     "name": "stdout",
     "output_type": "stream",
     "text": [
      "Number of examples:  228146\n"
     ]
    }
   ],
   "source": [
    "# create the dataset\n",
    "xs, ys = [], []\n",
    "for w in words:\n",
    "    chs = ['.'] + list(w) + ['.']\n",
    "    for ch1, ch2 in zip(chs, chs[1:]):\n",
    "        ix1 = stoi[ch1]\n",
    "        ix2 = stoi[ch2]\n",
    "        xs.append(ix1)\n",
    "        ys.append(ix2)\n",
    "\n",
    "xs = torch.tensor(xs)\n",
    "ys = torch.tensor(ys)\n",
    "num = xs.nelement()\n",
    "print('Number of examples: ', num)\n",
    "\n",
    "# init 'network'\n",
    "g = torch.Generator().manual_seed(21427483647)\n",
    "W = torch.randn((27, 27), generator=g, requires_grad=True)"
   ]
  },
  {
   "cell_type": "code",
   "execution_count": 7,
   "metadata": {},
   "outputs": [
    {
     "name": "stdout",
     "output_type": "stream",
     "text": [
      "3.7688002586364746\n",
      "3.3679373264312744\n",
      "3.161724090576172\n",
      "3.0385050773620605\n",
      "2.9520912170410156\n",
      "2.8889198303222656\n",
      "2.841514825820923\n",
      "2.80497145652771\n",
      "2.7760958671569824\n",
      "2.7528128623962402\n",
      "2.7337334156036377\n",
      "2.717888116836548\n",
      "2.704572916030884\n",
      "2.6932666301727295\n",
      "2.683574914932251\n",
      "2.6751952171325684\n",
      "2.6678903102874756\n",
      "2.661473274230957\n",
      "2.6557962894439697\n",
      "2.650740623474121\n",
      "2.6462109088897705\n",
      "2.6421310901641846\n",
      "2.6384379863739014\n",
      "2.6350808143615723\n",
      "2.6320178508758545\n",
      "2.6292130947113037\n",
      "2.6266374588012695\n",
      "2.62426495552063\n",
      "2.622074604034424\n",
      "2.6200480461120605\n",
      "2.618168592453003\n",
      "2.616422176361084\n",
      "2.6147966384887695\n",
      "2.613281488418579\n",
      "2.6118667125701904\n",
      "2.6105430126190186\n",
      "2.6093037128448486\n",
      "2.6081416606903076\n",
      "2.607051372528076\n",
      "2.6060264110565186\n",
      "2.605062246322632\n",
      "2.604154348373413\n",
      "2.6032984256744385\n",
      "2.6024913787841797\n",
      "2.601729393005371\n",
      "2.6010091304779053\n",
      "2.600328207015991\n",
      "2.599684476852417\n",
      "2.599074363708496\n",
      "2.598496437072754\n",
      "2.597949266433716\n",
      "2.5974299907684326\n",
      "2.5969369411468506\n",
      "2.596468687057495\n",
      "2.596024751663208\n",
      "2.595602512359619\n",
      "2.595200777053833\n",
      "2.5948190689086914\n",
      "2.5944554805755615\n",
      "2.5941097736358643\n",
      "2.593780279159546\n",
      "2.5934665203094482\n",
      "2.593167781829834\n",
      "2.5928828716278076\n",
      "2.5926108360290527\n",
      "2.5923516750335693\n",
      "2.592104434967041\n",
      "2.5918686389923096\n",
      "2.5916430950164795\n",
      "2.59142804145813\n",
      "2.5912222862243652\n",
      "2.5910260677337646\n",
      "2.59083890914917\n",
      "2.5906593799591064\n",
      "2.5904879570007324\n",
      "2.5903236865997314\n",
      "2.5901668071746826\n",
      "2.590017080307007\n",
      "2.5898733139038086\n",
      "2.589735746383667\n",
      "2.589604139328003\n",
      "2.589477777481079\n",
      "2.589357376098633\n",
      "2.5892415046691895\n",
      "2.5891308784484863\n",
      "2.589024543762207\n",
      "2.5889229774475098\n",
      "2.5888254642486572\n",
      "2.5887317657470703\n",
      "2.588642120361328\n",
      "2.5885562896728516\n",
      "2.5884737968444824\n",
      "2.5883946418762207\n",
      "2.5883185863494873\n",
      "2.5882456302642822\n",
      "2.5881757736206055\n",
      "2.5881083011627197\n",
      "2.5880441665649414\n",
      "2.587981939315796\n",
      "2.5879223346710205\n"
     ]
    }
   ],
   "source": [
    "# gradient descent\n",
    "for k in range(100):\n",
    "    # forward pass\n",
    "    xenc = F.one_hot(xs, num_classes=27).float() # input to network\n",
    "    logits = xenc @ W # predict log-counts\n",
    "    # Softmax from scratch\n",
    "    counts = logits.exp() # counts, equivalent to N\n",
    "    probs = counts / counts.sum(1, keepdim=True) # probs for next char\n",
    "    loss = -probs[torch.arange(num), ys].log().mean() + 0.1*(W**2).mean()\n",
    "    print(loss.item())\n",
    "\n",
    "    # backward pass\n",
    "    W.grad = None # same as setting gradients to 0\n",
    "    loss.backward()\n",
    "\n",
    "    # update\n",
    "    lr = -50\n",
    "    W.data += lr*W.grad"
   ]
  },
  {
   "cell_type": "code",
   "execution_count": 9,
   "metadata": {},
   "outputs": [
    {
     "name": "stdout",
     "output_type": "stream",
     "text": [
      "intterikonaly.\n",
      "kelayryn.\n",
      "li.\n",
      "bkanewbrgesllgfyo.\n",
      "d.\n"
     ]
    }
   ],
   "source": [
    "# Sampling\n",
    "g = torch.Generator().manual_seed(12)\n",
    "\n",
    "for i in range(5):\n",
    "    out = []\n",
    "    ix = 0\n",
    "    while True:\n",
    "        xenc = F.one_hot(torch.tensor([ix]), num_classes=27).float()\n",
    "        logits = xenc @ W\n",
    "        counts = logits.exp()\n",
    "        p = counts / counts.sum(1, keepdim=True)\n",
    "\n",
    "        ix = torch.multinomial(p, num_samples=1, replacement=True, generator=g).item()\n",
    "        out.append(itos[ix]) \n",
    "        if ix == 0: break\n",
    "    \n",
    "    print(''.join(out))"
   ]
  }
 ],
 "metadata": {
  "kernelspec": {
   "display_name": "makemore-env",
   "language": "python",
   "name": "python3"
  },
  "language_info": {
   "codemirror_mode": {
    "name": "ipython",
    "version": 3
   },
   "file_extension": ".py",
   "mimetype": "text/x-python",
   "name": "python",
   "nbconvert_exporter": "python",
   "pygments_lexer": "ipython3",
   "version": "3.12.3"
  }
 },
 "nbformat": 4,
 "nbformat_minor": 2
}
